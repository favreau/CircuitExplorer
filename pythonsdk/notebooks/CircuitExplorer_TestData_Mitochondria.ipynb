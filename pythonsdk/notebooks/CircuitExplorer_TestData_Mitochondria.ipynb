{
 "cells": [
  {
   "cell_type": "code",
   "execution_count": 35,
   "metadata": {},
   "outputs": [],
   "source": [
    "from brayns import Client\n",
    "from circuitexplorer import CircuitExplorer\n",
    "brayns = Client('localhost:5000')\n",
    "ce = CircuitExplorer(brayns)"
   ]
  },
  {
   "cell_type": "code",
   "execution_count": 36,
   "metadata": {},
   "outputs": [],
   "source": [
    "config = '/home/favreau/git/install/release/share/BBPTestData/circuitBuilding_1000neurons/BlueConfig'"
   ]
  },
  {
   "cell_type": "code",
   "execution_count": 37,
   "metadata": {},
   "outputs": [],
   "source": [
    "model = ce.load_circuit(\n",
    "    use_sdf_soma=True, use_sdf_branches=False, use_sdf_nucleus=True,\n",
    "    load_soma=True, load_axon=True, load_apical_dendrite=True, load_dendrite=True,\n",
    "    load_afferent_synapses=True, load_efferent_synapses=True,\n",
    "    circuit_color_scheme=ce.CIRCUIT_COLOR_SCHEME_NEURON_BY_ID,\n",
    "    morphology_color_scheme=ce.MORPHOLOGY_COLOR_SCHEME_NONE,\n",
    "    density=100, path=config, generate_internals=True,\n",
    "    targets=['mini50']\n",
    ")"
   ]
  },
  {
   "cell_type": "code",
   "execution_count": 38,
   "metadata": {},
   "outputs": [],
   "source": [
    "status = brayns.set_camera(\n",
    "    orientation=[-0.007149015377189473, -0.3525297158187466, -0.006351682723416716, 0.935751755098793],\n",
    "    position=[-7.259142462546265, 1336.4928115590612, 113.62684206008949],\n",
    "    target=[39.16958356316163, 1335.2359535608118, 60.74596607987225]\n",
    ")"
   ]
  },
  {
   "cell_type": "code",
   "execution_count": 39,
   "metadata": {},
   "outputs": [],
   "source": [
    "def set_materials(model_id, palette_name, opacity=1.0):\n",
    "    \n",
    "    simulation_data_casts=list()\n",
    "    opacities=list()\n",
    "    refraction_indices=list()\n",
    "    reflection_indices=list()\n",
    "    shading_modes=list()\n",
    "    diffuse_colors=list()\n",
    "    specular_colors=list()\n",
    "    specular_exponents=list()\n",
    "    material_ids=list()\n",
    "    glossinesses=list()\n",
    "    emissions=list()\n",
    "    clips=list()\n",
    "    user_parameters=list()\n",
    "    \n",
    "    import seaborn as sns\n",
    "    material_ids = ce.get_material_ids(model_id)['ids']\n",
    "    nb_materials = len(material_ids)\n",
    "    palette = sns.color_palette(palette_name, nb_materials)\n",
    "    \n",
    "    for i in range(nb_materials):\n",
    "        c=palette[i]\n",
    "        material_id = material_ids[i] % ce.NB_MATERIALS_PER_MORPHOLOGY\n",
    "        if material_id in [ce.MATERIAL_OFFSET_MITOCHONDRION, ce.MATERIAL_OFFSET_NUCLEUS]:\n",
    "            opacities.append(1.0)\n",
    "            shading_modes.append(ce.SHADING_MODE_PERLIN)\n",
    "            user_parameters.append(0.1)\n",
    "            specular_exponents.append(5)\n",
    "            glossinesses.append(0.1)\n",
    "            if material_id == ce.MATERIAL_OFFSET_MITOCHONDRION:\n",
    "                emissions.append(0.0)\n",
    "                diffuse_colors.append([0.4, 0.0, 0.4])\n",
    "                specular_colors.append([0.4, 0.0, 0.4])\n",
    "            else:\n",
    "                emissions.append(0.0)\n",
    "                diffuse_colors.append([1,1,1])\n",
    "                specular_colors.append([1,1,1])\n",
    "        elif material_id in [ce.MATERIAL_OFFSET_AFFERENT_SYNPASE, ce.MATERIAL_OFFSET_EFFERENT_SYNPASE]:\n",
    "            # Synapses\n",
    "            opacities.append(1.0)\n",
    "            emissions.append(0.5)\n",
    "            shading_modes.append(ce.SHADING_MODE_PERLIN)\n",
    "            user_parameters.append(0.5)\n",
    "            specular_exponents.append(5)\n",
    "            glossinesses.append(0.2)\n",
    "            if material_id == ce.MATERIAL_OFFSET_AFFERENT_SYNPASE:\n",
    "                diffuse_colors.append([1.0, 0.5, 0.2])\n",
    "                specular_colors.append([1.0, 0.5, 0.2])\n",
    "            else:\n",
    "                diffuse_colors.append([0.2, 0.5, 1.0])\n",
    "                specular_colors.append([0.2, 0.5, 1.0])\n",
    "        else:\n",
    "            # Neuron\n",
    "            opacities.append(opacity)\n",
    "            emissions.append(0.0)\n",
    "            shading_modes.append(ce.SHADING_MODE_PERLIN)\n",
    "            user_parameters.append(0.2)\n",
    "            glossinesses.append(0.5)\n",
    "            specular_exponents.append(5.0)\n",
    "            diffuse_colors.append(c)\n",
    "            specular_colors.append(c)\n",
    "            \n",
    "        refraction_indices.append(1.1)\n",
    "        reflection_indices.append(0.0)\n",
    "        simulation_data_casts.append(False)\n",
    "        clips.append(False)\n",
    "        \n",
    "    ce.set_material_extra_attributes(model_id)\n",
    "    ce.set_materials(\n",
    "        model_ids=[model_id], material_ids=material_ids,\n",
    "        simulation_data_casts=simulation_data_casts,\n",
    "        opacities=opacities, reflection_indices=reflection_indices,\n",
    "        shading_modes=shading_modes, user_parameters=user_parameters,\n",
    "        diffuse_colors=diffuse_colors, specular_colors=specular_colors,\n",
    "        specular_exponents=specular_exponents, glossinesses=glossinesses,\n",
    "        emissions=emissions, refraction_indices=refraction_indices)\n",
    "    \n",
    "model_id = model['id']\n",
    "ce.set_material_extra_attributes(model_id)\n",
    "set_materials(model_id, 'Set3', 0.6)\n",
    "status =  brayns.set_renderer()"
   ]
  },
  {
   "cell_type": "code",
   "execution_count": 40,
   "metadata": {},
   "outputs": [],
   "source": [
    "status = brayns.set_renderer(current='circuit_explorer_advanced',\n",
    "    subsampling=4, max_accum_frames=64)\n",
    "params = brayns.CircuitExplorerAdvancedRendererParams()\n",
    "params.exposure = 1.5\n",
    "params.max_bounces = 10\n",
    "params.epsilon_factor = 400.0\n",
    "params.fog_start = 40.0\n",
    "params.fog_thickness = 200.0\n",
    "params.gi_samples = 0\n",
    "params.gi_weight = 0.5\n",
    "params.gi_distance = 200.0\n",
    "params.shadows = 0.0\n",
    "params.soft_shadows = 0.1\n",
    "status = brayns.set_renderer_params(params)"
   ]
  }
 ],
 "metadata": {
  "kernelspec": {
   "display_name": "Python 3",
   "language": "python",
   "name": "python3"
  },
  "language_info": {
   "codemirror_mode": {
    "name": "ipython",
    "version": 3
   },
   "file_extension": ".py",
   "mimetype": "text/x-python",
   "name": "python",
   "nbconvert_exporter": "python",
   "pygments_lexer": "ipython3",
   "version": "3.8.10"
  }
 },
 "nbformat": 4,
 "nbformat_minor": 2
}
