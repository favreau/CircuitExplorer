{
 "cells": [
  {
   "cell_type": "code",
   "execution_count": null,
   "metadata": {},
   "outputs": [],
   "source": [
    "from brayns import Client\n",
    "from circuitexplorer import CircuitExplorer"
   ]
  },
  {
   "cell_type": "code",
   "execution_count": null,
   "metadata": {},
   "outputs": [],
   "source": [
    "brayns = Client('localhost:5000')\n",
    "ce = CircuitExplorer(brayns)"
   ]
  },
  {
   "cell_type": "markdown",
   "metadata": {},
   "source": [
    "## Get region names"
   ]
  },
  {
   "cell_type": "code",
   "execution_count": null,
   "metadata": {},
   "outputs": [],
   "source": [
    "import json\n",
    "\n",
    "region_file = '/home/favreau/python/data/waxholm/brain_region.json'\n",
    "f = open(region_file)\n",
    "obj = json.load(f)\n",
    "\n",
    "regions = dict()\n",
    "def get_children(node, level):\n",
    "    regions[node['id']] = [level, node['name']]\n",
    "    try:\n",
    "        for child in node['children']:\n",
    "            get_children(child, level + 1)\n",
    "    except KeyError as e: \n",
    "        pass\n",
    "\n",
    "get_children(obj, 0)"
   ]
  },
  {
   "cell_type": "markdown",
   "metadata": {},
   "source": [
    "## Load region meshes"
   ]
  },
  {
   "cell_type": "code",
   "execution_count": null,
   "metadata": {
    "scrolled": false
   },
   "outputs": [],
   "source": [
    "import glob\n",
    "import os\n",
    "nrrd_folder = '/home/favreau/python/data/waxholm/brain_regions/brain_region/'\n",
    "mesh_files = glob.glob(nrrd_folder + '*.obj')\n",
    "mesh_models = list()\n",
    "for mesh_file in mesh_files:\n",
    "    region_id = int(os.path.basename(mesh_file).split('.')[0])\n",
    "    \n",
    "    region = regions[region_id]\n",
    "    region_level = region[0]\n",
    "    region_name = region[1]\n",
    "    if region_level == 3 and region_name.find('nerve') == -1:\n",
    "#         print('Loading region %d: %s' % (region_id, region_name))\n",
    "        model = brayns.add_model(path=mesh_file, name=region_name)\n",
    "        mesh_models.append(model)"
   ]
  },
  {
   "cell_type": "code",
   "execution_count": null,
   "metadata": {},
   "outputs": [],
   "source": [
    "for model in mesh_models:\n",
    "    tf = model['transformation']\n",
    "    tf['scale'] = [30, 30, 30]\n",
    "    tf['translation'] = [-280,-650,-450]\n",
    "    brayns.update_model(id=model['id'], transformation=tf)"
   ]
  },
  {
   "cell_type": "code",
   "execution_count": null,
   "metadata": {},
   "outputs": [],
   "source": [
    "def set_model_color(model_id, color, intensity=1.0, opacity=1.0, shading_mode=ce.SHADING_MODE_DIFFUSE):\n",
    "    simulation_data_casts=list()\n",
    "    opacities=list()\n",
    "    refraction_indices=list()\n",
    "    reflection_indices=list()\n",
    "    shading_modes=list()\n",
    "    diffuse_colors=list()\n",
    "    specular_colors=list()\n",
    "    specular_exponents=list()\n",
    "    material_ids=list()\n",
    "    glossinesses=list()\n",
    "    emissions=list()\n",
    "    clips=list()\n",
    "    user_parameters=list()\n",
    "    \n",
    "    material_ids = ce.get_material_ids(model_id)['ids']\n",
    "    nb_materials = len(material_ids)\n",
    "    for i in range(nb_materials):\n",
    "        \n",
    "        if shading_mode==ce.SHADING_MODE_PERLIN:\n",
    "            opacities.append(0.5)\n",
    "            refraction_indices.append(1.5)\n",
    "            specular_exponents.append(50)\n",
    "            glossinesses.append(0.5)\n",
    "            user_parameters.append(0.001)\n",
    "        elif shading_mode==ce.SHADING_MODE_ELECTRON:\n",
    "            opacities.append(0.75)\n",
    "            refraction_indices.append(1.0)\n",
    "            specular_exponents.append(5)\n",
    "            glossinesses.append(1.0)\n",
    "            user_parameters.append(1.0)\n",
    "        else:\n",
    "            opacities.append(0.5)\n",
    "            refraction_indices.append(1.0)\n",
    "            specular_exponents.append(50)\n",
    "            glossinesses.append(1.0)\n",
    "            user_parameters.append(1.0)\n",
    "\n",
    "        c=color\n",
    "        reflection_indices.append(0.0)\n",
    "        diffuse_colors.append([c[0] * intensity,c[1] * intensity,c[2] * intensity])\n",
    "        specular_colors.append([c[0] * intensity,c[1] * intensity,c[2] * intensity])\n",
    "        simulation_data_casts.append(False)\n",
    "        shading_modes.append(shading_mode)\n",
    "        emissions.append(0)\n",
    "        clips.append(True)\n",
    "\n",
    "    ce.set_materials(\n",
    "        model_ids=[model_id], material_ids=material_ids,\n",
    "        simulation_data_casts=simulation_data_casts,\n",
    "        opacities=opacities, reflection_indices=reflection_indices,\n",
    "        shading_modes=shading_modes, user_parameters=user_parameters,\n",
    "        diffuse_colors=diffuse_colors, specular_colors=specular_colors,\n",
    "        specular_exponents=specular_exponents, glossinesses=glossinesses,\n",
    "        emissions=emissions, refraction_indices=refraction_indices)"
   ]
  },
  {
   "cell_type": "code",
   "execution_count": null,
   "metadata": {},
   "outputs": [],
   "source": [
    "import seaborn as sns\n",
    "nb_models = len(mesh_models)\n",
    "palette = sns.color_palette('rainbow', nb_models)\n",
    "for i in range(nb_models):\n",
    "    model = mesh_models[i]\n",
    "    model_id = model['id']\n",
    "    ce.set_material_extra_attributes(model_id)\n",
    "    set_model_color(model_id, palette[i], \n",
    "                    shading_mode=ce.SHADING_MODE_DIFFUSE,\n",
    "                    intensity=2.0)"
   ]
  },
  {
   "cell_type": "code",
   "execution_count": null,
   "metadata": {},
   "outputs": [],
   "source": [
    "from bioexplorer import BioExplorer, Widgets\n",
    "be = BioExplorer()\n",
    "w = Widgets(be)"
   ]
  },
  {
   "cell_type": "code",
   "execution_count": 36,
   "metadata": {
    "scrolled": false
   },
   "outputs": [
    {
     "data": {
      "application/vnd.jupyter.widget-view+json": {
       "model_id": "33ecb83b497248e4b2dfd773a91d4919",
       "version_major": 2,
       "version_minor": 0
      },
      "text/plain": [
       "HBox(children=(SelectMultiple(options=('glomerular layer of the olfactory bulb', 'transverse fibers of the pon…"
      ]
     },
     "metadata": {},
     "output_type": "display_data"
    }
   ],
   "source": [
    "w.display_model_visibility()"
   ]
  },
  {
   "cell_type": "markdown",
   "metadata": {},
   "source": [
    "## S1 Circuit"
   ]
  },
  {
   "cell_type": "code",
   "execution_count": null,
   "metadata": {},
   "outputs": [],
   "source": [
    "s1_config = '/gpfs/bbp.cscs.ch/project/proj83/circuits/Bio_M/20200805/CircuitConfig_TC_WM'"
   ]
  },
  {
   "cell_type": "code",
   "execution_count": null,
   "metadata": {},
   "outputs": [],
   "source": [
    "create_cache = False\n",
    "cache_folder = '/home/favreau/python/data/brayns'\n",
    "target_models = list()\n",
    "for target in ['S1DZO', 'S1DZ', 'S1FL', 'S1HL', 'S1J', 'S1Sh', 'S1Tr', 'S1ULp']:\n",
    "    cache_path = '%s/%s.brayns' % (cache_folder, target)\n",
    "    if create_cache:\n",
    "        model = ce.load_circuit(\n",
    "            name=target,\n",
    "            load_soma=True, radius_multiplier=5.0,\n",
    "            use_sdf=False, load_axon=False, load_apical_dendrite=False, load_dendrite=False,\n",
    "            circuit_color_scheme=ce.CIRCUIT_COLOR_SCHEME_NONE,\n",
    "            density=100, path=s1_config, targets=[target])\n",
    "        ce.save_model_to_cache(\n",
    "            model_id=model['id'],\n",
    "            path=cache_path\n",
    "        )\n",
    "        target_models.append(model)\n",
    "    else:\n",
    "        model = ce.load_circuit(name=target, path=cache_path)\n",
    "        target_models.append(model)"
   ]
  },
  {
   "cell_type": "code",
   "execution_count": null,
   "metadata": {},
   "outputs": [],
   "source": [
    "# model = ce.load_circuit(\n",
    "#     name=target, load_soma=True, \n",
    "#     use_sdf=True, load_axon=False, load_apical_dendrite=True, load_dendrite=True,\n",
    "#     circuit_color_scheme=ce.CIRCUIT_COLOR_SCHEME_NEURON_BY_LAYER,\n",
    "#     density=0.1, path=s1_config, targets=['S1HL'])\n",
    "\n",
    "# Could not open morphology file /gpfs/bbp.cscs.ch/project/proj83/morphologies/fixed_ais_L23PC_20201210/ascii/sm080930a1-5_idC_-_Scale_x1.000_y0.975_z1.000.h5"
   ]
  },
  {
   "cell_type": "code",
   "execution_count": null,
   "metadata": {},
   "outputs": [],
   "source": [
    "import seaborn as sns\n",
    "nb_models = len(target_models)\n",
    "palette = sns.color_palette('rainbow', nb_models)\n",
    "for i in range(nb_models):\n",
    "    model = target_models[i]\n",
    "    model_id = model['id']\n",
    "    ce.set_material_extra_attributes(model_id)\n",
    "    set_model_color(model_id, palette[i],\n",
    "                    shading_mode=ce.SHADING_MODE_DIFFUSE)"
   ]
  },
  {
   "cell_type": "code",
   "execution_count": null,
   "metadata": {},
   "outputs": [],
   "source": [
    "for model in target_models:\n",
    "    tf = model['transformation']\n",
    "    tf['rotation'] = [0.0, 0.0, 1.0, 0.0]\n",
    "    if model['name'] == 'S1HL':\n",
    "        tf['translation'] = [-15000.0, 0.0, 0.0]\n",
    "    else:\n",
    "        tf['translation'] = [-7500.0, 0.0, 0.0]\n",
    "    brayns.update_model(id=model['id'], transformation=tf)    "
   ]
  },
  {
   "cell_type": "code",
   "execution_count": null,
   "metadata": {},
   "outputs": [],
   "source": [
    "box_model = ce.add_box(\n",
    "    minCorner=[-32000, -20000, -10010], maxCorner=[20000, 20000, -10000],\n",
    "    color=[0.5, 0.5, 0.5, 1.0]\n",
    ")"
   ]
  },
  {
   "cell_type": "code",
   "execution_count": null,
   "metadata": {},
   "outputs": [],
   "source": [
    "model_id = box_model['id']\n",
    "ce.set_material_extra_attributes(model_id)\n",
    "set_model_color(model_id, [0.2, 0.2, 0.2], \n",
    "                shading_mode=ce.SHADING_MODE_NONE)"
   ]
  },
  {
   "cell_type": "markdown",
   "metadata": {},
   "source": [
    "## Camera"
   ]
  },
  {
   "cell_type": "code",
   "execution_count": null,
   "metadata": {},
   "outputs": [],
   "source": [
    "brayns.set_camera(\n",
    "    orientation=[0.008657863306720616, 0.004328919822465945, -1.4055102769718064e-05, 0.9999531497318196],\n",
    "    position=[-7315.691873683525, -2666.139309893637, 25494.027720775728],\n",
    "    target=[-7580.739032885286, -2136.0249149445644, -5116.074459866043]    \n",
    ")"
   ]
  },
  {
   "cell_type": "code",
   "execution_count": null,
   "metadata": {},
   "outputs": [],
   "source": []
  }
 ],
 "metadata": {
  "kernelspec": {
   "display_name": "Python 3",
   "language": "python",
   "name": "python3"
  },
  "language_info": {
   "codemirror_mode": {
    "name": "ipython",
    "version": 3
   },
   "file_extension": ".py",
   "mimetype": "text/x-python",
   "name": "python",
   "nbconvert_exporter": "python",
   "pygments_lexer": "ipython3",
   "version": "3.8.10"
  }
 },
 "nbformat": 4,
 "nbformat_minor": 2
}
