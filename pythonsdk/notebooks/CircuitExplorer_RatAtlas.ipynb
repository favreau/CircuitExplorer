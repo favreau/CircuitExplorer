{
 "cells": [
  {
   "cell_type": "code",
   "execution_count": null,
   "metadata": {},
   "outputs": [],
   "source": [
    "from brayns import Client\n",
    "from circuitexplorer import CircuitExplorer\n",
    "from bioexplorer import BioExplorer, Widgets, MovieMaker"
   ]
  },
  {
   "cell_type": "code",
   "execution_count": null,
   "metadata": {},
   "outputs": [],
   "source": [
    "url = 'localhost:5000'\n",
    "brayns = Client(url)\n",
    "ce = CircuitExplorer(brayns)\n",
    "be = BioExplorer(url)"
   ]
  },
  {
   "cell_type": "code",
   "execution_count": null,
   "metadata": {},
   "outputs": [],
   "source": [
    "# root_folder = '/gpfs/bbp.cscs.ch/project/proj129/atlas/rat'\n",
    "root_folder = '/media/favreau/Documents/medias/atlas/rat'\n",
    "cache_folder = '%s/%s' % (root_folder, 'braynsCaches/v3/s1')\n",
    "region_file = '%s/%s' % (root_folder, 'scans/waxholm/brain_region.json')\n",
    "nrrd_folder_1 = '%s/%s' % (root_folder, 'scans/waxholm/brain_regions/brain_region')\n",
    "obj_folder_1 = '%s/%s' % (root_folder, 'scans/waxholm/brain_regions/obj')\n",
    "nrrd_folder_2 = '%s/%s' % (root_folder, 'scans/other')\n",
    "obj_folder_2 = '%s/%s' % (root_folder, 'scans/other/obj')\n",
    "# s1_config = '/gpfs/bbp.cscs.ch/project/proj83/circuits/Bio_M/20200805/CircuitConfig_TC_WM'\n",
    "s1_config = '%s/%s' % (root_folder, 'CircuitConfig_TC_WM')\n",
    "\n",
    "create_cache = False"
   ]
  },
  {
   "cell_type": "markdown",
   "metadata": {},
   "source": [
    "## Get region names"
   ]
  },
  {
   "cell_type": "code",
   "execution_count": null,
   "metadata": {},
   "outputs": [],
   "source": [
    "import json\n",
    "\n",
    "f = open(region_file)\n",
    "obj = json.load(f)\n",
    "\n",
    "regions = dict()\n",
    "def get_children(node, level):\n",
    "    regions[node['id']] = [level, node['name']]\n",
    "    try:\n",
    "        for child in node['children']:\n",
    "            get_children(child, level + 1)\n",
    "    except KeyError as e: \n",
    "        pass\n",
    "\n",
    "get_children(obj, 0)"
   ]
  },
  {
   "cell_type": "markdown",
   "metadata": {},
   "source": [
    "## Convert NRRD files into OBJ meshes"
   ]
  },
  {
   "cell_type": "code",
   "execution_count": 1,
   "metadata": {},
   "outputs": [],
   "source": [
    "import os\n",
    "import numpy as np\n",
    "import nrrd\n",
    "import glob\n",
    "from skimage import measure\n",
    "from scipy import ndimage\n",
    "\n",
    "\n",
    "def mask_to_mesh_data(arr):\n",
    "    dilated = ndimage.binary_dilation(arr, iterations = 1).astype(np.uint16)\n",
    "    gaussian_blurred = ndimage.gaussian_filter(dilated - 0.5, sigma=3)\n",
    "\n",
    "    # Make sure the final mesh has no side-of-box hole\n",
    "    gaussian_blurred[:, :, 0] = -0.5\n",
    "    gaussian_blurred[:, :, -1] = -0.5\n",
    "    gaussian_blurred[:, 0, :] = -0.5\n",
    "    gaussian_blurred[:, -1, :] = -0.5\n",
    "    gaussian_blurred[0, :, :] = -0.5\n",
    "    gaussian_blurred[-1, :, :] = -0.5\n",
    "\n",
    "    vertices, triangles, normals, values = measure.marching_cubes(gaussian_blurred)\n",
    "    return (vertices, triangles)\n",
    "\n",
    "def export_obj(vertices, triangles, filepath, origin=[0,0,0], transform_3x3=[[1,0,0],[0,1,0],[0,0,1]]):\n",
    "    M_xa = transform_3x3[0][0]\n",
    "    M_ya = transform_3x3[0][1]\n",
    "    M_za = transform_3x3[0][2]\n",
    "\n",
    "    M_xb = transform_3x3[1][0]\n",
    "    M_yb = transform_3x3[1][1]\n",
    "    M_zb = transform_3x3[1][2]\n",
    "\n",
    "    M_xc = transform_3x3[2][0]\n",
    "    M_yc = transform_3x3[2][1]\n",
    "    M_zc = transform_3x3[2][2]\n",
    "\n",
    "    O_x = origin[0]\n",
    "    O_y = origin[1]\n",
    "    O_z = origin[2]\n",
    "\n",
    "    obj_str = \"\"\n",
    "\n",
    "    for v in vertices:\n",
    "        v_x = v[0]\n",
    "        v_y = v[1]\n",
    "        v_z = v[2]\n",
    "        v_x_world = v_x * M_xa + v_y * M_xb + v_z * M_xc + O_x\n",
    "        v_y_world = v_x * M_ya + v_y * M_yb + v_z * M_yc + O_y\n",
    "        v_z_world = v_x * M_za + v_y * M_zb + v_z * M_zc + O_z\n",
    "        obj_str += \"v \"+str(v_x_world)+\" \"+str(v_y_world)+\" \"+str(v_z_world)+\" \\n\"\n",
    "\n",
    "    for t in triangles:\n",
    "        obj_str += \"f \"+ str(int(t[2])+1) + \" \" + str(int(t[1])+1)+\" \" + str(int(t[0])+1)+\" \\n\"\n",
    "\n",
    "    f = open(filepath, 'w')\n",
    "    f.write(obj_str)\n",
    "    f.close()\n",
    "  \n",
    "def convert_region(nrrd_file, obj_folder):\n",
    "    region_id = int(os.path.basename(nrrd_file).split('.')[0])\n",
    "    region = regions[region_id]\n",
    "    region_name = region[1].replace(' ', '_')\n",
    "    mesh_file = '%s/%d_%s.obj' % (obj_folder, region_id, region_name)\n",
    "    print('Processing <%s> region...' % region_name)\n",
    "\n",
    "    # reading the nrrd file\n",
    "    nrrd_data, nrrd_header = nrrd.read(nrrd_file)\n",
    "    # origin = nrrd_header[\"space origin\"]\n",
    "    # transform_3x3 = nrrd_header[\"space directions\"]\n",
    "    print(nrrd_header)\n",
    "\n",
    "    # Get vertices and triangles\n",
    "    vertices, triangles = mask_to_mesh_data(nrrd_data)\n",
    "\n",
    "    # Exporting the mesh as OBJ file\n",
    "    export_obj(vertices, triangles, mesh_file)\n",
    "    \n",
    "def convert_file(nrrd_file, obj_folder):\n",
    "    name = os.path.basename(nrrd_file).split('.')[0]\n",
    "    mesh_file = '%s/%s.obj' % (obj_folder, name)\n",
    "    if os.path.exists(mesh_file):\n",
    "        return\n",
    "    print('Processing <%s> region...' % mesh_file)\n",
    "\n",
    "    # reading the nrrd file\n",
    "    nrrd_data, nrrd_header = nrrd.read(nrrd_file)\n",
    "    # origin = nrrd_header[\"space origin\"]\n",
    "    # transform_3x3 = nrrd_header[\"space directions\"]\n",
    "\n",
    "    # Get vertices and triangles\n",
    "    vertices, triangles = mask_to_mesh_data(nrrd_data)\n",
    "\n",
    "    # Exporting the mesh as OBJ file\n",
    "    export_obj(vertices, triangles, mesh_file)"
   ]
  },
  {
   "cell_type": "code",
   "execution_count": null,
   "metadata": {},
   "outputs": [],
   "source": [
    "'''Waxholm'''\n",
    "nrrd_files = glob.glob(nrrd_folder_1 + '/*.nrrd')\n",
    "for nrrd_file in nrrd_files:\n",
    "    convert_region(nrrd_file, obj_folder_1)"
   ]
  },
  {
   "cell_type": "code",
   "execution_count": null,
   "metadata": {},
   "outputs": [],
   "source": [
    "'''Other'''\n",
    "nrrd_files = glob.glob(nrrd_folder_2 + '/*.nrrd')\n",
    "for nrrd_file in nrrd_files:\n",
    "    try:\n",
    "        convert_file(nrrd_file, obj_folder_2)\n",
    "    except Exception as e:\n",
    "        print(e)"
   ]
  },
  {
   "cell_type": "markdown",
   "metadata": {},
   "source": [
    "## Load region meshes"
   ]
  },
  {
   "cell_type": "code",
   "execution_count": null,
   "metadata": {
    "scrolled": false
   },
   "outputs": [],
   "source": [
    "import glob\n",
    "import os\n",
    "\n",
    "mesh_files = glob.glob(obj_folder_1 + '/*.obj')\n",
    "mesh_models = list()\n",
    "for mesh_file in mesh_files:\n",
    "    region_id = int(os.path.basename(mesh_file).split('_')[0])\n",
    "    \n",
    "    region = regions[region_id]\n",
    "    region_level = region[0]\n",
    "    region_name = region[1]\n",
    "    if region_level == 3 and region_name.find('nerve') == -1:\n",
    "        model = brayns.add_model(path=mesh_file, name=region_name)\n",
    "        mesh_models.append(model)"
   ]
  },
  {
   "cell_type": "code",
   "execution_count": null,
   "metadata": {},
   "outputs": [],
   "source": [
    "for model in mesh_models:\n",
    "    tf = model['transformation']\n",
    "    tf['scale'] = [10, 10, 10]\n",
    "    tf['translation'] = [0,-600,-450]\n",
    "    brayns.update_model(id=model['id'], transformation=tf)"
   ]
  },
  {
   "cell_type": "code",
   "execution_count": null,
   "metadata": {},
   "outputs": [],
   "source": [
    "def set_model_color(model_id, color, intensity=1.0, opacity=1.0, shading_mode=ce.SHADING_MODE_DIFFUSE):\n",
    "    simulation_data_casts=list()\n",
    "    opacities=list()\n",
    "    refraction_indices=list()\n",
    "    reflection_indices=list()\n",
    "    shading_modes=list()\n",
    "    diffuse_colors=list()\n",
    "    specular_colors=list()\n",
    "    specular_exponents=list()\n",
    "    material_ids=list()\n",
    "    glossinesses=list()\n",
    "    emissions=list()\n",
    "    clips=list()\n",
    "    user_parameters=list()\n",
    "    \n",
    "    material_ids = ce.get_material_ids(model_id)['ids']\n",
    "    nb_materials = len(material_ids)\n",
    "    for i in range(nb_materials):\n",
    "        \n",
    "        if shading_mode==ce.SHADING_MODE_PERLIN:\n",
    "            opacities.append(0.5)\n",
    "            refraction_indices.append(1.5)\n",
    "            specular_exponents.append(50)\n",
    "            glossinesses.append(0.5)\n",
    "            user_parameters.append(0.001)\n",
    "        elif shading_mode==ce.SHADING_MODE_ELECTRON:\n",
    "            opacities.append(0.75)\n",
    "            refraction_indices.append(1.0)\n",
    "            specular_exponents.append(5)\n",
    "            glossinesses.append(1.0)\n",
    "            user_parameters.append(1.0)\n",
    "        elif shading_mode==ce.SHADING_MODE_DIFFUSE:\n",
    "            opacities.append(opacity)\n",
    "            refraction_indices.append(1.0)\n",
    "            specular_exponents.append(50)\n",
    "            glossinesses.append(1.0)\n",
    "            user_parameters.append(1.0)\n",
    "        else:\n",
    "            opacities.append(1.0)\n",
    "            refraction_indices.append(1.0)\n",
    "            specular_exponents.append(50)\n",
    "            glossinesses.append(1.0)\n",
    "            user_parameters.append(1.0)\n",
    "\n",
    "        c=color\n",
    "        reflection_indices.append(0.0)\n",
    "        diffuse_colors.append([c[0] * intensity,c[1] * intensity,c[2] * intensity])\n",
    "        specular_colors.append([c[0] * intensity,c[1] * intensity,c[2] * intensity])\n",
    "        simulation_data_casts.append(False)\n",
    "        shading_modes.append(shading_mode)\n",
    "        emissions.append(0)\n",
    "        clips.append(True)\n",
    "\n",
    "    ce.set_materials(\n",
    "        model_ids=[model_id], material_ids=material_ids,\n",
    "        simulation_data_casts=simulation_data_casts,\n",
    "        opacities=opacities, reflection_indices=reflection_indices,\n",
    "        shading_modes=shading_modes, user_parameters=user_parameters,\n",
    "        diffuse_colors=diffuse_colors, specular_colors=specular_colors,\n",
    "        specular_exponents=specular_exponents, glossinesses=glossinesses,\n",
    "        emissions=emissions, refraction_indices=refraction_indices)"
   ]
  },
  {
   "cell_type": "code",
   "execution_count": null,
   "metadata": {},
   "outputs": [],
   "source": [
    "import seaborn as sns\n",
    "nb_models = len(mesh_models)\n",
    "palette = sns.color_palette('rainbow_r', nb_models)\n",
    "for i in range(nb_models):\n",
    "    model = mesh_models[i]\n",
    "    model_id = model['id']\n",
    "    ce.set_material_extra_attributes(model_id)\n",
    "    set_model_color(model_id, palette[i], \n",
    "                    shading_mode=ce.SHADING_MODE_DIFFUSE,\n",
    "                    opacity=0.75)"
   ]
  },
  {
   "cell_type": "markdown",
   "metadata": {},
   "source": [
    "## Widgets"
   ]
  },
  {
   "cell_type": "code",
   "execution_count": null,
   "metadata": {},
   "outputs": [],
   "source": [
    "w = Widgets(be)\n",
    "w.display_model_visibility()"
   ]
  },
  {
   "cell_type": "markdown",
   "metadata": {},
   "source": [
    "## S1 Circuit"
   ]
  },
  {
   "cell_type": "markdown",
   "metadata": {},
   "source": [
    "### Somas only"
   ]
  },
  {
   "cell_type": "code",
   "execution_count": null,
   "metadata": {},
   "outputs": [],
   "source": [
    "somas_models = list()\n",
    "for target in ['S1DZO', 'S1DZ', 'S1FL', 'S1HL', 'S1J', 'S1Sh', 'S1Tr', 'S1ULp']:\n",
    "    print('Loading target ' + target)\n",
    "    cache_path = '%s/somas/%s.brayns' % (cache_folder, target)\n",
    "    try:\n",
    "        if create_cache:\n",
    "            model = ce.load_circuit(\n",
    "                name=target,\n",
    "                load_soma=True, radius_multiplier=5.0,\n",
    "                use_sdf=False, load_axon=False, load_apical_dendrite=False, load_dendrite=False,\n",
    "                circuit_color_scheme=ce.CIRCUIT_COLOR_SCHEME_NONE,\n",
    "                density=100, path=s1_config, targets=[target])\n",
    "            ce.save_model_to_cache(\n",
    "                model_id=model['id'],\n",
    "                path=cache_path\n",
    "            )\n",
    "            somas_models.append(model)\n",
    "        else:\n",
    "            model = ce.load_circuit(name=target, path=cache_path)\n",
    "            somas_models.append(model)\n",
    "            \n",
    "            if False:\n",
    "                # Export meshes from point cloud of somas\n",
    "                # Taubin smooth lambda=2, mu=1, iterations=100\n",
    "                off_path = '%s/somas/%s.off' % (cache_folder, target)\n",
    "                ce.save_model_to_mesh(model_id=model['id'], path=off_path, density=5, radius_multiplier=1000.0, shrink_factor=0.2, skin=False)\n",
    "    except Exception as e:\n",
    "        print(e)"
   ]
  },
  {
   "cell_type": "code",
   "execution_count": null,
   "metadata": {},
   "outputs": [],
   "source": [
    "somas_models = list()\n",
    "for target in ['S1DZO', 'S1DZ', 'S1FL', 'S1HL', 'S1J', 'S1Sh', 'S1Tr', 'S1ULp']:\n",
    "    print('Loading target ' + target)\n",
    "    path = '%s/somas/off/%s.off' % (cache_folder, target)\n",
    "    try:\n",
    "        model = brayns.add_model(name=target, path=path)\n",
    "        somas_models.append(model)\n",
    "    except Exception as e:\n",
    "        print(e)"
   ]
  },
  {
   "cell_type": "code",
   "execution_count": null,
   "metadata": {},
   "outputs": [],
   "source": [
    "import seaborn as sns\n",
    "nb_models = len(somas_models)\n",
    "palette = sns.color_palette('rainbow', nb_models)\n",
    "for i in range(nb_models):\n",
    "    model = somas_models[i]\n",
    "    model_id = model['id']\n",
    "    ce.set_material_extra_attributes(model_id)\n",
    "    set_model_color(model_id, palette[i],\n",
    "                    shading_mode=ce.SHADING_MODE_DIFFUSE)"
   ]
  },
  {
   "cell_type": "code",
   "execution_count": null,
   "metadata": {},
   "outputs": [],
   "source": [
    "for model in somas_models:\n",
    "    tf = model['transformation']\n",
    "    tf['rotation'] = [0.0, 0.0, 1.0, 0.0]\n",
    "    if model['name'] == 'S1HL':\n",
    "        tf['translation'] = [-15000.0, 0.0, 0.0]\n",
    "    else:\n",
    "        tf['translation'] = [-7500.0, 0.0, 0.0]\n",
    "    brayns.update_model(id=model['id'], transformation=tf)    "
   ]
  },
  {
   "cell_type": "code",
   "execution_count": null,
   "metadata": {},
   "outputs": [],
   "source": [
    "for model in somas_models:\n",
    "    tf = model['transformation']\n",
    "    tf['rotation'] = [0.271, -0.271, 0.653, 0.653]\n",
    "    tf['translation'] = [11000.0, -5000.0, -5000.0]\n",
    "    brayns.update_model(id=model['id'], transformation=tf)    "
   ]
  },
  {
   "cell_type": "markdown",
   "metadata": {},
   "source": [
    "### Full morphologies"
   ]
  },
  {
   "cell_type": "code",
   "execution_count": null,
   "metadata": {},
   "outputs": [],
   "source": [
    "morphologies_models = list()\n",
    "for target in ['S1DZO', 'S1DZ', 'S1FL', 'S1HL', 'S1J', 'S1Sh', 'S1Tr', 'S1ULp']:\n",
    "    print('Loading target ' + target)\n",
    "    try:\n",
    "        cache_path = '%s/morphologies/%s.brayns' % (cache_folder, target)\n",
    "        if create_cache:\n",
    "            model = ce.load_circuit(\n",
    "                name=target, load_soma=True, \n",
    "                use_sdf=True, load_axon=False, load_apical_dendrite=True, load_dendrite=True,\n",
    "                circuit_color_scheme=ce.CIRCUIT_COLOR_SCHEME_NEURON_BY_LAYER,\n",
    "                density=1.0, path=s1_config, targets=[target])\n",
    "            ce.save_model_to_cache(\n",
    "                model_id=model['id'],\n",
    "                path=cache_path\n",
    "            )\n",
    "            morphologies_models.append(model)\n",
    "        else:\n",
    "            model = ce.load_circuit(name=target, path=cache_path)\n",
    "            morphologies_models.append(model)        \n",
    "    except Exception as e:\n",
    "        print(e)"
   ]
  },
  {
   "cell_type": "code",
   "execution_count": null,
   "metadata": {},
   "outputs": [],
   "source": [
    "import seaborn as sns\n",
    "nb_models = len(morphologies_models)\n",
    "palette = sns.color_palette('rainbow', nb_models)\n",
    "for i in range(nb_models):\n",
    "    model = morphologies_models[i]\n",
    "    model_id = model['id']\n",
    "    ce.set_material_extra_attributes(model_id)\n",
    "    set_model_color(model_id, palette[i],\n",
    "                    shading_mode=ce.SHADING_MODE_DIFFUSE, opacity=1.0)"
   ]
  },
  {
   "cell_type": "code",
   "execution_count": null,
   "metadata": {},
   "outputs": [],
   "source": [
    "for model in morphologies_models:\n",
    "    tf = model['transformation']\n",
    "    tf['rotation'] = [0.707, 0.707, 0.0, 0.0]\n",
    "    tf['translation'] = [-12000.0, -10000.0, 0.0]\n",
    "    brayns.update_model(id=model['id'], transformation=tf)    "
   ]
  },
  {
   "cell_type": "code",
   "execution_count": null,
   "metadata": {},
   "outputs": [],
   "source": [
    "for model in morphologies_models:\n",
    "    tf = model['transformation']\n",
    "    tf['rotation'] = [0.0, 0.0, 0.707, 0.707]\n",
    "    tf['translation'] = [-15000.0, -10000.0, 0.0]\n",
    "    brayns.update_model(id=model['id'], transformation=tf)    "
   ]
  },
  {
   "cell_type": "code",
   "execution_count": null,
   "metadata": {},
   "outputs": [],
   "source": [
    "for model in morphologies_models:\n",
    "    tf = model['transformation']\n",
    "    tf['rotation'] = [0.271, -0.271, 0.653, 0.653]\n",
    "    tf['translation'] = [0.0, 0.0, 0.0]\n",
    "    brayns.update_model(id=model['id'], transformation=tf)    "
   ]
  },
  {
   "cell_type": "code",
   "execution_count": null,
   "metadata": {},
   "outputs": [],
   "source": [
    "brayns.set_camera(\n",
    "    orientation=[0.0, 0.0, 0.0, 1.0],\n",
    "    position=[11158.340921621704, -93.66669235677276, 23502.815813478417],\n",
    "    target=[11158.340921621704, -93.66669235677276, -4621.778547877644]    \n",
    ")"
   ]
  },
  {
   "cell_type": "code",
   "execution_count": null,
   "metadata": {},
   "outputs": [],
   "source": [
    "# height 8500\n",
    "brayns.set_camera(\n",
    "    orientation = [0.0, 0.0, 0.0, 1.0],\n",
    "    position = [429.4863577091896, 4648.420067139924, 17051.49609983677],\n",
    "    target = [429.4863577091896, 4648.420067139924, 556.4834173582194]\n",
    ")"
   ]
  },
  {
   "cell_type": "markdown",
   "metadata": {},
   "source": [
    "## Ground"
   ]
  },
  {
   "cell_type": "code",
   "execution_count": null,
   "metadata": {},
   "outputs": [],
   "source": [
    "box_model = ce.add_box(\n",
    "    minCorner=[-32000, -20000, -9010], maxCorner=[32000, 20000, -9000],\n",
    "    color=[0.5, 0.5, 0.5, 1.0]\n",
    ")"
   ]
  },
  {
   "cell_type": "code",
   "execution_count": null,
   "metadata": {},
   "outputs": [],
   "source": [
    "model_id = box_model['id']\n",
    "ce.set_material_extra_attributes(model_id)\n",
    "set_model_color(model_id, [0.2, 0.2, 0.2], \n",
    "                shading_mode=ce.SHADING_MODE_NONE)"
   ]
  },
  {
   "cell_type": "markdown",
   "metadata": {},
   "source": [
    "## Camera"
   ]
  },
  {
   "cell_type": "code",
   "execution_count": null,
   "metadata": {},
   "outputs": [],
   "source": [
    "brayns.set_camera(\n",
    "    orientation = [0.0, 0.0, 0.0, 1.0],\n",
    "    position = [4149.881999163289, -1993.847240303193, 31419.27950858261],\n",
    "    target = [4149.881999163289, -1993.847240303193, -5116.074459866043]    \n",
    ")"
   ]
  },
  {
   "cell_type": "code",
   "execution_count": null,
   "metadata": {},
   "outputs": [],
   "source": [
    "brayns.set_camera(\n",
    "    orientation = [0.0, 0.0, 0.0, 1.0],\n",
    "    position = [7236.659913507874, -113.2457830182348, 15587.40007899607],\n",
    "    target = [7236.659913507874, -113.2457830182348, -5116.074459866043]\n",
    ")"
   ]
  },
  {
   "cell_type": "markdown",
   "metadata": {},
   "source": [
    "## Snaphot"
   ]
  },
  {
   "cell_type": "code",
   "execution_count": null,
   "metadata": {},
   "outputs": [],
   "source": [
    "mm = MovieMaker(be)"
   ]
  },
  {
   "cell_type": "code",
   "execution_count": null,
   "metadata": {},
   "outputs": [],
   "source": [
    "k = 4\n",
    "mm.create_snapshot(size=[k*940, k*560], samples_per_pixel=64, base_name='rat_brain_sscx_v1', path='/home/favreau')"
   ]
  },
  {
   "cell_type": "code",
   "execution_count": null,
   "metadata": {},
   "outputs": [],
   "source": [
    "k = 4\n",
    "mm.create_snapshot(size=[k*540, k*540], samples_per_pixel=64, base_name='rat_brain_sscx_v5', path='/home/favreau')"
   ]
  }
 ],
 "metadata": {
  "kernelspec": {
   "display_name": "Python 3",
   "language": "python",
   "name": "python3"
  },
  "language_info": {
   "codemirror_mode": {
    "name": "ipython",
    "version": 3
   },
   "file_extension": ".py",
   "mimetype": "text/x-python",
   "name": "python",
   "nbconvert_exporter": "python",
   "pygments_lexer": "ipython3",
   "version": "3.8.10"
  }
 },
 "nbformat": 4,
 "nbformat_minor": 2
}
