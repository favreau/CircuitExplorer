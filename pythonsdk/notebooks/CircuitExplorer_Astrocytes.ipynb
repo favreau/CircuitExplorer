{
 "cells": [
  {
   "cell_type": "code",
   "execution_count": 1,
   "metadata": {},
   "outputs": [],
   "source": [
    "from brayns import Client\n",
    "from circuitexplorer import CircuitExplorer\n",
    "brayns = Client('localhost:5000')\n",
    "ce = CircuitExplorer(brayns)\n",
    "config = '/media/favreau/Documents/medias/astrocytes/one.astrocytes'"
   ]
  },
  {
   "cell_type": "code",
   "execution_count": 2,
   "metadata": {},
   "outputs": [],
   "source": [
    "model = ce.load_astrocytes(path=config, use_sdf=True, generate_internals=True)"
   ]
  },
  {
   "cell_type": "code",
   "execution_count": 3,
   "metadata": {},
   "outputs": [
    {
     "data": {
      "text/plain": [
       "True"
      ]
     },
     "execution_count": 3,
     "metadata": {},
     "output_type": "execute_result"
    }
   ],
   "source": [
    "brayns.set_camera(\n",
    " orientation = [0.0, 0.7071067811865475, 0.0, 0.7071067811865476],\n",
    " position = [534.6766202822544, 696.5267742832598, 921.705842287376],\n",
    " target = [423.8168899214437, 696.5267742832598, 921.705842287376],\n",
    ")"
   ]
  },
  {
   "cell_type": "code",
   "execution_count": 4,
   "metadata": {},
   "outputs": [],
   "source": [
    "def set_materials(model_id, palette_name, opacity=1.0):\n",
    "    \n",
    "    opacities=list()\n",
    "    refraction_indices=list()\n",
    "    reflection_indices=list()\n",
    "    shading_modes=list()\n",
    "    diffuse_colors=list()\n",
    "    specular_colors=list()\n",
    "    specular_exponents=list()\n",
    "    material_ids=list()\n",
    "    glossinesses=list()\n",
    "    user_parameters=list()\n",
    "    \n",
    "    import seaborn as sns\n",
    "    material_ids = ce.get_material_ids(model_id)['ids']\n",
    "    nb_materials = len(material_ids)\n",
    "    palette = sns.color_palette(palette_name, nb_materials)\n",
    "    \n",
    "    for i in range(nb_materials):\n",
    "        c=palette[i]\n",
    "        mid = material_ids[i] % 10\n",
    "        if mid == ce.MATERIAL_OFFSET_MITOCHONDRION:\n",
    "            opacities.append(1.0)\n",
    "            glossinesses.append(0.7)\n",
    "            shading_modes.append(ce.SHADING_MODE_PERLIN)\n",
    "            user_parameters.append(0.08)\n",
    "            specular_exponents.append(5)\n",
    "        else:\n",
    "            opacities.append(opacity)\n",
    "            glossinesses.append(1.0)\n",
    "            shading_modes.append(ce.SHADING_MODE_ELECTRON)\n",
    "            user_parameters.append(1.0)\n",
    "            specular_exponents.append(50)\n",
    "\n",
    "        refraction_indices.append(1.0)\n",
    "        reflection_indices.append(0.0)\n",
    "        diffuse_colors.append([c[0],c[1],c[2]])\n",
    "        specular_colors.append([c[0],c[1],c[2]])\n",
    "        \n",
    "\n",
    "    ce.set_materials(\n",
    "        model_ids=[model_id], material_ids=material_ids,\n",
    "        opacities=opacities, reflection_indices=reflection_indices,\n",
    "        shading_modes=shading_modes, user_parameters=user_parameters,\n",
    "        diffuse_colors=diffuse_colors, specular_colors=specular_colors,\n",
    "        specular_exponents=specular_exponents, glossinesses=glossinesses,\n",
    "        refraction_indices=refraction_indices)"
   ]
  },
  {
   "cell_type": "code",
   "execution_count": 5,
   "metadata": {},
   "outputs": [],
   "source": [
    "model_id = model['id']\n",
    "ce.set_material_extra_attributes(model_id)\n",
    "set_materials(model_id, 'Set1', 0.5)"
   ]
  },
  {
   "cell_type": "code",
   "execution_count": 6,
   "metadata": {},
   "outputs": [],
   "source": [
    "status = brayns.set_renderer(\n",
    "    subsampling=4, max_accum_frames=16)\n",
    "params = brayns.CircuitExplorerAdvancedRendererParams()\n",
    "params.max_bounces = 10\n",
    "params.epsilon_factor = 10\n",
    "status = brayns.set_renderer_params(params)"
   ]
  }
 ],
 "metadata": {
  "kernelspec": {
   "display_name": "Python 3",
   "language": "python",
   "name": "python3"
  },
  "language_info": {
   "codemirror_mode": {
    "name": "ipython",
    "version": 3
   },
   "file_extension": ".py",
   "mimetype": "text/x-python",
   "name": "python",
   "nbconvert_exporter": "python",
   "pygments_lexer": "ipython3",
   "version": "3.8.10"
  }
 },
 "nbformat": 4,
 "nbformat_minor": 2
}
