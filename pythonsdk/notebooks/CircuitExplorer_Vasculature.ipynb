{
 "cells": [
  {
   "cell_type": "markdown",
   "metadata": {},
   "source": [
    "# Vasculature simulation use-case"
   ]
  },
  {
   "cell_type": "markdown",
   "metadata": {},
   "source": [
    "### Connect to back-end"
   ]
  },
  {
   "cell_type": "code",
   "execution_count": 6,
   "metadata": {},
   "outputs": [],
   "source": [
    "from brayns import Client\n",
    "from circuitexplorer import CircuitExplorer\n",
    "from bioexplorer import BioExplorer, TransferFunction, MovieMaker\n",
    "\n",
    "url = 'localhost:5000'\n",
    "\n",
    "brayns = Client(url)\n",
    "ce = CircuitExplorer(brayns)\n",
    "be = BioExplorer(url)\n",
    "mm = MovieMaker(be)"
   ]
  },
  {
   "cell_type": "markdown",
   "metadata": {},
   "source": [
    "### Load vasculature"
   ]
  },
  {
   "cell_type": "code",
   "execution_count": 7,
   "metadata": {},
   "outputs": [],
   "source": [
    "data_folder = '/gpfs/bbp.cscs.ch/project/proj129/medias/ngv/vasculature/'"
   ]
  },
  {
   "cell_type": "code",
   "execution_count": 8,
   "metadata": {},
   "outputs": [],
   "source": [
    "vasculature_file = data_folder + 'graph_with_endfeet.h5'\n",
    "vasculature_model = ce.load_vasculature(\n",
    "    name='Vasculature', path=vasculature_file,\n",
    "    use_sdf=False, geometry_quality=ce.GEOMETRY_QUALITY_HIGH,\n",
    "    color_scheme=ce.MORPHOLOGY_COLOR_SCHEME_NONE\n",
    ")\n",
    "vasculature_model_id = vasculature_model['id']"
   ]
  },
  {
   "cell_type": "code",
   "execution_count": 9,
   "metadata": {},
   "outputs": [],
   "source": [
    "ce.set_vasculature_default_materials(\n",
    "    model_id=vasculature_model_id, palette_name='Set1',\n",
    "    shading_mode=ce.SHADING_MODE_NONE\n",
    ")"
   ]
  },
  {
   "cell_type": "markdown",
   "metadata": {},
   "source": [
    "### Sections"
   ]
  },
  {
   "cell_type": "code",
   "execution_count": null,
   "metadata": {},
   "outputs": [],
   "source": [
    "ce.set_vasculature_section_color(\n",
    "    model_id=vasculature_model_id,\n",
    "    section_id=10000,\n",
    "    color=[1,0,0]\n",
    ")"
   ]
  },
  {
   "cell_type": "code",
   "execution_count": null,
   "metadata": {},
   "outputs": [],
   "source": [
    "for i in range(10000):\n",
    "    ce.set_vasculature_section_color(\n",
    "        model_id=vasculature_model_id,\n",
    "        section_id=i,\n",
    "        color=[1,1,1]\n",
    "    )"
   ]
  },
  {
   "cell_type": "markdown",
   "metadata": {},
   "source": [
    "### Segments"
   ]
  },
  {
   "cell_type": "code",
   "execution_count": null,
   "metadata": {},
   "outputs": [],
   "source": [
    "ce.set_vasculature_segment_color(\n",
    "    model_id=vasculature_model_id,\n",
    "    segment_id=0,\n",
    "    color=[1,0,0]\n",
    ")"
   ]
  },
  {
   "cell_type": "markdown",
   "metadata": {},
   "source": [
    "### Set camera default position and rendering parameters"
   ]
  },
  {
   "cell_type": "code",
   "execution_count": 4,
   "metadata": {},
   "outputs": [],
   "source": [
    "status = brayns.set_camera(\n",
    "    orientation = [-0.188, 0.28, 0.036, 0.940],\n",
    "    position = [1577, 2183, 2511], target = [333, 1279, 646])"
   ]
  },
  {
   "cell_type": "code",
   "execution_count": 5,
   "metadata": {},
   "outputs": [],
   "source": [
    "status = brayns.set_renderer(\n",
    "    current='circuit_explorer_advanced',\n",
    "    subsampling=4, max_accum_frames=256)\n",
    "params = brayns.CircuitExplorerAdvancedRendererParams()\n",
    "params.epsilon_factor = 1000.0\n",
    "params.shadows = 1.0\n",
    "params.soft_shadows = 1.0\n",
    "status = brayns.set_renderer_params(params)"
   ]
  },
  {
   "cell_type": "markdown",
   "metadata": {},
   "source": [
    "## Simulation report"
   ]
  },
  {
   "cell_type": "markdown",
   "metadata": {},
   "source": [
    "### Simulation transfer function"
   ]
  },
  {
   "cell_type": "code",
   "execution_count": null,
   "metadata": {
    "scrolled": true
   },
   "outputs": [],
   "source": [
    "tf = TransferFunction(\n",
    "    bioexplorer=BioExplorer(url), name='Reds',\n",
    "    model_id=vasculature_model['id'], size=16, alpha=1.0\n",
    ")"
   ]
  },
  {
   "cell_type": "markdown",
   "metadata": {},
   "source": [
    "### Set materials to display simulation data"
   ]
  },
  {
   "cell_type": "code",
   "execution_count": null,
   "metadata": {},
   "outputs": [],
   "source": [
    "ce.set_vasculature_default_materials(\n",
    "    model_id=vasculature_model_id, palette_name='Reds',\n",
    "    shading_mode=ce.SHADING_MODE_NONE,\n",
    "    map_simulation_data=True)"
   ]
  },
  {
   "cell_type": "markdown",
   "metadata": {},
   "source": [
    "### Attach simulation report to the vasculature"
   ]
  },
  {
   "cell_type": "code",
   "execution_count": null,
   "metadata": {},
   "outputs": [],
   "source": [
    "''' Report file names and value ranges '''\n",
    "reports = ['report_flows', 'report_pressures', 'report_radii']\n",
    "reports_ranges = [[-0.5, 1.5], [0, 0.0015], [0, 45]]\n",
    "\n",
    "''' Attach report to vasculature '''\n",
    "report_id = 0\n",
    "\n",
    "report_filename = data_folder + reports[report_id] +'.h5'\n",
    "ce.attach_vasculature_report(\n",
    "    model_id=vasculature_model_id,\n",
    "    path=report_filename, debug=False)\n",
    "tf.set_range(reports_ranges[report_id])"
   ]
  },
  {
   "cell_type": "markdown",
   "metadata": {},
   "source": [
    "### Widget example"
   ]
  },
  {
   "cell_type": "code",
   "execution_count": null,
   "metadata": {
    "scrolled": true
   },
   "outputs": [],
   "source": [
    "from ipywidgets import Select, HBox\n",
    "\n",
    "def update_report(value):\n",
    "    ce.attach_vasculature_report(\n",
    "        model_id=vasculature_model_id,\n",
    "        path=data_folder + reports[value.new] + '.h5')\n",
    "    tf.set_palette(ce.COLOR_MAPS[colormap_selector.index])\n",
    "    tf.set_range(reports_ranges[report_selector.index])\n",
    "    brayns.set_renderer()\n",
    "    \n",
    "def update_colormap(value):\n",
    "    tf.set_palette(ce.COLOR_MAPS[colormap_selector.index])\n",
    "    tf.set_range(reports_ranges[report_selector.index])\n",
    "    brayns.set_renderer()\n",
    "\n",
    "report_selector = Select(options=reports)\n",
    "report_selector.observe(update_report, 'index')\n",
    "colormap_selector = Select(options=ce.COLOR_MAPS)\n",
    "colormap_selector.observe(update_colormap, 'index')\n",
    "hbox = HBox([report_selector, colormap_selector])\n",
    "display(hbox)"
   ]
  },
  {
   "cell_type": "markdown",
   "metadata": {},
   "source": [
    "## Snapshots"
   ]
  },
  {
   "cell_type": "markdown",
   "metadata": {},
   "source": [
    "### Single snapshot"
   ]
  },
  {
   "cell_type": "code",
   "execution_count": null,
   "metadata": {},
   "outputs": [],
   "source": [
    "status = brayns.set_camera(\n",
    "    orientation = [-0.188, 0.280, 0.035, 0.940],\n",
    "    position = [1875, 2400, 2958], target = [333, 1279, 646])"
   ]
  },
  {
   "cell_type": "code",
   "execution_count": null,
   "metadata": {},
   "outputs": [],
   "source": [
    "''' Create image and save it to disk '''\n",
    "mm.create_snapshot(\n",
    "    size=[2160, 3840], samples_per_pixel=64,\n",
    "    base_name='vasculature_4k_v4', path='/tmp')"
   ]
  },
  {
   "cell_type": "markdown",
   "metadata": {},
   "source": [
    "### Zoom"
   ]
  },
  {
   "cell_type": "code",
   "execution_count": null,
   "metadata": {},
   "outputs": [],
   "source": [
    "status = brayns.set_camera(\n",
    "    orientation = [-0.188, 0.280, 0.035, 0.940],\n",
    "    position=[879, 2075, 1188], target=[366, 1702, 418])"
   ]
  },
  {
   "cell_type": "code",
   "execution_count": null,
   "metadata": {},
   "outputs": [],
   "source": [
    "''' Create image and save it to disk '''\n",
    "mm.create_snapshot(\n",
    "    size=[3840, 2160], samples_per_pixel=64,\n",
    "    base_name='vasculature_4k_v5', path='/tmp')"
   ]
  },
  {
   "cell_type": "markdown",
   "metadata": {},
   "source": [
    "### Simple movie"
   ]
  },
  {
   "cell_type": "code",
   "execution_count": null,
   "metadata": {},
   "outputs": [],
   "source": [
    "for frame in range(720):\n",
    "    ''' Apply geometry modifications to the vasculature '''\n",
    "    ce.apply_vasculature_geometry_report(\n",
    "        path=data_folder + 'report_radii.h5',\n",
    "        model_id=vasculature_model_id,\n",
    "        frame=frame, amplitude=0.75, debug=True\n",
    "    )\n",
    "    ''' Set animation frame (for the mapping of the simulation report) '''\n",
    "    brayns.set_animation_parameters(current=frame)\n",
    "\n",
    "    ''' Create image and save it to disk '''\n",
    "    mm.create_snapshot(\n",
    "        size=[1080, 1080], samples_per_pixel=32,\n",
    "        base_name='%05d' % frame, path='/tmp')"
   ]
  }
 ],
 "metadata": {
  "kernelspec": {
   "display_name": "Python 3 (ipykernel)",
   "language": "python",
   "name": "python3"
  },
  "language_info": {
   "codemirror_mode": {
    "name": "ipython",
    "version": 3
   },
   "file_extension": ".py",
   "mimetype": "text/x-python",
   "name": "python",
   "nbconvert_exporter": "python",
   "pygments_lexer": "ipython3",
   "version": "3.8.10"
  }
 },
 "nbformat": 4,
 "nbformat_minor": 2
}
