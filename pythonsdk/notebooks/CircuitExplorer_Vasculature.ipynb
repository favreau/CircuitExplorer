{
 "cells": [
  {
   "cell_type": "markdown",
   "metadata": {},
   "source": [
    "# Vasculature simulation use-case"
   ]
  },
  {
   "cell_type": "markdown",
   "metadata": {},
   "source": [
    "### Connect to back-end"
   ]
  },
  {
   "cell_type": "code",
   "execution_count": null,
   "metadata": {},
   "outputs": [],
   "source": [
    "from brayns import Client\n",
    "from circuitexplorer import CircuitExplorer\n",
    "from bioexplorer import BioExplorer, TransferFunction, Widgets, MovieMaker\n",
    "\n",
    "url = 'localhost:5000'\n",
    "brayns = Client(url)\n",
    "ce = CircuitExplorer(brayns)\n",
    "be = BioExplorer(url)\n",
    "mm = MovieMaker(be)"
   ]
  },
  {
   "cell_type": "markdown",
   "metadata": {},
   "source": [
    "### Load vasculature"
   ]
  },
  {
   "cell_type": "code",
   "execution_count": null,
   "metadata": {},
   "outputs": [],
   "source": [
    "data_folder = '/media/favreau/Documents/medias/ngv/'"
   ]
  },
  {
   "cell_type": "code",
   "execution_count": null,
   "metadata": {},
   "outputs": [],
   "source": [
    "vasculature_file = data_folder + 'graph_with_endfeet.h5'\n",
    "vasculature_model = ce.load_vasculature(\n",
    "    name='Vasculature', path=vasculature_file,\n",
    "    use_sdf=True\n",
    ")\n",
    "vasculature_model_id = vasculature_model['id']"
   ]
  },
  {
   "cell_type": "code",
   "execution_count": null,
   "metadata": {},
   "outputs": [],
   "source": [
    "ce.set_vasculature_default_materials(\n",
    "    model_id=vasculature_model_id, palette_name='Reds')"
   ]
  },
  {
   "cell_type": "markdown",
   "metadata": {},
   "source": [
    "### Set camera default position and rendering parameters"
   ]
  },
  {
   "cell_type": "code",
   "execution_count": null,
   "metadata": {},
   "outputs": [],
   "source": [
    "status = brayns.set_camera(\n",
    "    orientation = [-0.187, 0.281, 0.036, 0.94],\n",
    "    position = [1578, 2283, 2463], target = [334, 1379, 598])"
   ]
  },
  {
   "cell_type": "code",
   "execution_count": null,
   "metadata": {},
   "outputs": [],
   "source": [
    "status = brayns.set_renderer(\n",
    "    current='circuit_explorer_advanced',\n",
    "    subsampling=4, max_accum_frames=64)\n",
    "params = brayns.CircuitExplorerAdvancedRendererParams()\n",
    "params.epsilon_factor = 1000.0\n",
    "params.shadows = 1.0\n",
    "params.soft_shadows = 1.0\n",
    "status = brayns.set_renderer_params(params)"
   ]
  },
  {
   "cell_type": "markdown",
   "metadata": {},
   "source": [
    "## Simulation report"
   ]
  },
  {
   "cell_type": "markdown",
   "metadata": {},
   "source": [
    "### Simulation transfer function"
   ]
  },
  {
   "cell_type": "code",
   "execution_count": null,
   "metadata": {
    "scrolled": true
   },
   "outputs": [],
   "source": [
    "tf = TransferFunction(\n",
    "    bioexplorer=BioExplorer(url),\n",
    "    model_id=vasculature_model['id'], size=16, alpha=1.0\n",
    ")"
   ]
  },
  {
   "cell_type": "markdown",
   "metadata": {},
   "source": [
    "### Set materials to display simulation data"
   ]
  },
  {
   "cell_type": "code",
   "execution_count": null,
   "metadata": {},
   "outputs": [],
   "source": [
    "ce.set_vasculature_default_materials(\n",
    "    model_id=vasculature_model_id, palette_name='Reds',\n",
    "    map_simulation_data=True)"
   ]
  },
  {
   "cell_type": "markdown",
   "metadata": {},
   "source": [
    "### Attach simulation report to the vasculature"
   ]
  },
  {
   "cell_type": "code",
   "execution_count": null,
   "metadata": {},
   "outputs": [],
   "source": [
    "# Report file name and value range\n",
    "reports = [\n",
    "    ['report_flows', [-1.5, 5.0]],\n",
    "    ['report_pressures', [0, 0.0015]],\n",
    "    ['report_radii', [0, 45]]\n",
    "]\n",
    "\n",
    "# Attach report to vasculature\n",
    "report_id = 0\n",
    "\n",
    "report_filename = data_folder + reports[report_id][0] +'.h5'\n",
    "ce.attach_vasculature_report(\n",
    "    model_id=vasculature_model_id,\n",
    "    path=report_filename)\n",
    "tf.set_range(reports[report_id][1])"
   ]
  },
  {
   "cell_type": "markdown",
   "metadata": {},
   "source": [
    "## Snapshot"
   ]
  },
  {
   "cell_type": "code",
   "execution_count": null,
   "metadata": {},
   "outputs": [],
   "source": [
    "mm.create_snapshot(\n",
    "    size=[1080, 1920], samples_per_pixel=64,\n",
    "    base_name='vasculature_2k_v1', path='/tmp')"
   ]
  }
 ],
 "metadata": {
  "kernelspec": {
   "display_name": "Python 3",
   "language": "python",
   "name": "python3"
  },
  "language_info": {
   "codemirror_mode": {
    "name": "ipython",
    "version": 3
   },
   "file_extension": ".py",
   "mimetype": "text/x-python",
   "name": "python",
   "nbconvert_exporter": "python",
   "pygments_lexer": "ipython3",
   "version": "3.8.10"
  }
 },
 "nbformat": 4,
 "nbformat_minor": 2
}
