{
 "cells": [
  {
   "cell_type": "code",
   "execution_count": null,
   "metadata": {},
   "outputs": [],
   "source": [
    "from brayns import Client\n",
    "from circuitexplorer import CircuitExplorer\n",
    "brayns = Client('localhost:5000')\n",
    "ce = CircuitExplorer(brayns)\n",
    "config = '/home/favreau/git/install/release/share/BBPTestData/circuitBuilding_1000neurons/BlueConfig'"
   ]
  },
  {
   "cell_type": "code",
   "execution_count": null,
   "metadata": {},
   "outputs": [],
   "source": [
    "''' Single cell '''\n",
    "model = ce.load_circuit(\n",
    "    use_sdf_soma=True, use_sdf_synapses=True, use_sdf_branches=True,\n",
    "    load_afferent_synapses=False, load_efferent_synapses=False,\n",
    "    load_soma=True, load_axon=True, load_apical_dendrite=True, load_dendrite=True,\n",
    "    circuit_color_scheme=ce.CIRCUIT_COLOR_SCHEME_NEURON_BY_MTYPE,\n",
    "    morphology_color_scheme=ce.MORPHOLOGY_COLOR_SCHEME_BY_SECTION,\n",
    "    density=100, path=config, \n",
    "    targets=['mini50']\n",
    ")"
   ]
  },
  {
   "cell_type": "code",
   "execution_count": null,
   "metadata": {},
   "outputs": [],
   "source": [
    "brayns.set_camera(\n",
    "    orientation=[-0.0021732539364370963, 0.10047788510420594, 0.00044676063466827674, 0.9949368180830626],\n",
    "    position=[64.89396442780827, 1106.5347070377295, 77.12088671005506],\n",
    "    target=[-51.7417561277127, 1103.9595739873837, -494.4587893630659]\n",
    ")"
   ]
  },
  {
   "cell_type": "code",
   "execution_count": null,
   "metadata": {},
   "outputs": [],
   "source": [
    "def set_materials(model_id, palette_name, opacity=1.0):\n",
    "    \n",
    "    simulation_data_casts=list()\n",
    "    opacities=list()\n",
    "    refraction_indices=list()\n",
    "    reflection_indices=list()\n",
    "    shading_modes=list()\n",
    "    diffuse_colors=list()\n",
    "    specular_colors=list()\n",
    "    specular_exponents=list()\n",
    "    material_ids=list()\n",
    "    glossinesses=list()\n",
    "    emissions=list()\n",
    "    clips=list()\n",
    "    user_parameters=list()\n",
    "    \n",
    "    import seaborn as sns\n",
    "    material_ids = ce.get_material_ids(model_id)['ids']\n",
    "    sns_palette = sns.color_palette(palette_name, len(material_ids))\n",
    "    palette = list()\n",
    "    \n",
    "    i = 0\n",
    "    for material_id in material_ids:\n",
    "        c=sns_palette[i]\n",
    "        mid = material_id % 10\n",
    "        if mid == ce.MATERIAL_OFFSET_AFFERENT_SYNPASE:\n",
    "            palette.append([1,1,1])\n",
    "            emissions.append(1.0)\n",
    "        elif mid == ce.MATERIAL_OFFSET_EFFERENT_SYNPASE:\n",
    "            palette.append([1,1,1])\n",
    "            emissions.append(1.0)\n",
    "        else:\n",
    "            palette.append(c)\n",
    "            emissions.append(0)\n",
    "        i += 1\n",
    "    \n",
    "    for i in range(len(material_ids)):\n",
    "        c=sns_palette[i]\n",
    "        opacities.append(opacity)\n",
    "        refraction_indices.append(1.0)\n",
    "        reflection_indices.append(0.0)\n",
    "        specular_exponents.append(3)\n",
    "        glossinesses.append(0.7)\n",
    "        diffuse_colors.append([c[0],c[1],c[2]])\n",
    "        specular_colors.append([c[0],c[1],c[2]])\n",
    "        shading_modes.append(ce.SHADING_MODE_PERLIN)\n",
    "        simulation_data_casts.append(False)\n",
    "        user_parameters.append(0.08)\n",
    "        clips.append(False)\n",
    "        \n",
    "    ce.set_materials(\n",
    "        model_ids=[model_id], material_ids=material_ids,\n",
    "        simulation_data_casts=simulation_data_casts,\n",
    "        opacities=opacities, reflection_indices=reflection_indices,\n",
    "        shading_modes=shading_modes, user_parameters=user_parameters,\n",
    "        diffuse_colors=diffuse_colors, specular_colors=specular_colors,\n",
    "        specular_exponents=specular_exponents, glossinesses=glossinesses,\n",
    "        emissions=emissions, refraction_indices=refraction_indices)\n",
    "    \n",
    "model_id = model['id']\n",
    "ce.set_material_extra_attributes(model_id)\n",
    "set_materials(model_id, 'rainbow', 1.0)"
   ]
  },
  {
   "cell_type": "code",
   "execution_count": null,
   "metadata": {},
   "outputs": [],
   "source": [
    "brayns.set_renderer(subsampling=4, max_accum_frames=256)"
   ]
  },
  {
   "cell_type": "code",
   "execution_count": null,
   "metadata": {},
   "outputs": [],
   "source": [
    "ce.set_material_extra_attributes(10)"
   ]
  }
 ],
 "metadata": {
  "kernelspec": {
   "display_name": "Python 3",
   "language": "python",
   "name": "python3"
  },
  "language_info": {
   "codemirror_mode": {
    "name": "ipython",
    "version": 3
   },
   "file_extension": ".py",
   "mimetype": "text/x-python",
   "name": "python",
   "nbconvert_exporter": "python",
   "pygments_lexer": "ipython3",
   "version": "3.8.10"
  }
 },
 "nbformat": 4,
 "nbformat_minor": 2
}
