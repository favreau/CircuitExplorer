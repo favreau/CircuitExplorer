{
 "cells": [
  {
   "cell_type": "code",
   "execution_count": null,
   "metadata": {},
   "outputs": [],
   "source": [
    "from brayns import Client\n",
    "from circuitexplorer import CircuitExplorer\n",
    "brayns = Client('localhost:5000')\n",
    "ce = CircuitExplorer(brayns)"
   ]
  },
  {
   "cell_type": "code",
   "execution_count": null,
   "metadata": {},
   "outputs": [],
   "source": [
    "config = '/home/favreau/git/install/release/share/BBPTestData/circuitBuilding_1000neurons/BlueConfig'"
   ]
  },
  {
   "cell_type": "code",
   "execution_count": null,
   "metadata": {},
   "outputs": [],
   "source": [
    "''' Single cell '''\n",
    "model = ce.load_circuit(\n",
    "    use_sdf_soma=True,\n",
    "    load_soma=True, load_axon=True, load_apical_dendrite=True, load_dendrite=True,\n",
    "    circuit_color_scheme=ce.CIRCUIT_COLOR_SCHEME_NEURON_BY_ID,\n",
    "    morphology_color_scheme=ce.MORPHOLOGY_COLOR_SCHEME_BY_SECTION,\n",
    "    density=100, path=config, targets=['mini50'])"
   ]
  },
  {
   "cell_type": "code",
   "execution_count": null,
   "metadata": {},
   "outputs": [],
   "source": [
    "brayns.set_camera(\n",
    "    orientation=[0.0, 0.0, 0.0, 1.0],\n",
    "    position=[48.22725520482774, 1400.2945376573034, 94.8800494769331],\n",
    "    target=[48.22725520482774, 1400.2945376573034, -509.0384521484375]\n",
    ")"
   ]
  },
  {
   "cell_type": "code",
   "execution_count": null,
   "metadata": {},
   "outputs": [],
   "source": [
    "def set_materials(model_id, palette_name, opacity=1.0):\n",
    "    \n",
    "    simulation_data_casts=list()\n",
    "    opacities=list()\n",
    "    refraction_indices=list()\n",
    "    reflection_indices=list()\n",
    "    shading_modes=list()\n",
    "    diffuse_colors=list()\n",
    "    specular_colors=list()\n",
    "    specular_exponents=list()\n",
    "    material_ids=list()\n",
    "    glossinesses=list()\n",
    "    emissions=list()\n",
    "    clips=list()\n",
    "    user_parameters=list()\n",
    "    \n",
    "    import seaborn as sns\n",
    "    material_ids = ce.get_material_ids(model_id)['ids']\n",
    "    nb_materials = len(material_ids)\n",
    "    palette = list()\n",
    "    for i in range(nb_materials):\n",
    "        palette.append([0,1,1])\n",
    "#     palette = sns.color_palette(palette_name, nb_materials)\n",
    "    \n",
    "    for i in range(nb_materials):\n",
    "        c=palette[i]\n",
    "        opacities.append(opacity)\n",
    "        refraction_indices.append(1.0)\n",
    "        reflection_indices.append(0.0)\n",
    "        specular_exponents.append(10)\n",
    "        glossinesses.append(0.7)\n",
    "        diffuse_colors.append([c[0],c[1],c[2]])\n",
    "        specular_colors.append([c[0],c[1],c[2]])\n",
    "        shading_modes.append(ce.SHADING_MODE_DIFFUSE)\n",
    "        simulation_data_casts.append(False)\n",
    "        emissions.append(0)\n",
    "        user_parameters.append(0.08)\n",
    "        clips.append(False)\n",
    "        \n",
    "    ce.set_materials(\n",
    "        model_ids=[model_id], material_ids=material_ids,\n",
    "        simulation_data_casts=simulation_data_casts,\n",
    "        opacities=opacities, reflection_indices=reflection_indices,\n",
    "        shading_modes=shading_modes, user_parameters=user_parameters,\n",
    "        diffuse_colors=diffuse_colors, specular_colors=specular_colors,\n",
    "        specular_exponents=specular_exponents, glossinesses=glossinesses,\n",
    "        emissions=emissions, refraction_indices=refraction_indices)"
   ]
  },
  {
   "cell_type": "code",
   "execution_count": null,
   "metadata": {},
   "outputs": [],
   "source": [
    "model_id = model['id']\n",
    "ce.set_material_extra_attributes(model_id)\n",
    "set_materials(model_id, 'Set3')"
   ]
  },
  {
   "cell_type": "code",
   "execution_count": null,
   "metadata": {},
   "outputs": [],
   "source": [
    "brayns.set_renderer(subsampling=4, max_accum_frames=256)"
   ]
  }
 ],
 "metadata": {
  "kernelspec": {
   "display_name": "Python 3",
   "language": "python",
   "name": "python3"
  },
  "language_info": {
   "codemirror_mode": {
    "name": "ipython",
    "version": 3
   },
   "file_extension": ".py",
   "mimetype": "text/x-python",
   "name": "python",
   "nbconvert_exporter": "python",
   "pygments_lexer": "ipython3",
   "version": "3.8.10"
  }
 },
 "nbformat": 4,
 "nbformat_minor": 2
}
