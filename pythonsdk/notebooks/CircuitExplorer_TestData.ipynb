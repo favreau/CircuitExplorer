{
 "cells": [
  {
   "cell_type": "code",
   "execution_count": 33,
   "metadata": {},
   "outputs": [],
   "source": [
    "from brayns import Client\n",
    "from circuitexplorer import CircuitExplorer"
   ]
  },
  {
   "cell_type": "code",
   "execution_count": 34,
   "metadata": {},
   "outputs": [],
   "source": [
    "brayns = Client('localhost:5000')\n",
    "ce = CircuitExplorer(brayns)"
   ]
  },
  {
   "cell_type": "code",
   "execution_count": null,
   "metadata": {},
   "outputs": [],
   "source": [
    "config = '/home/favreau/git/install/release/share/BBPTestData/circuitBuilding_1000neurons/BlueConfig'"
   ]
  },
  {
   "cell_type": "code",
   "execution_count": null,
   "metadata": {},
   "outputs": [],
   "source": [
    "''' Single cell '''\n",
    "model = ce.load_circuit(\n",
    "    use_sdf=True,\n",
    "    load_soma=True, load_axon=True, load_apical_dendrite=True, load_dendrite=True,\n",
    "    circuit_color_scheme=ce.CIRCUIT_COLOR_SCHEME_NONE,\n",
    "    morphology_color_scheme=ce.MORPHOLOGY_COLOR_SCHEME_BY_SECTION_TYPE,\n",
    "    density=1, path=config, targets=['mini50'], mitochondria_density=0.1)"
   ]
  },
  {
   "cell_type": "code",
   "execution_count": null,
   "metadata": {},
   "outputs": [],
   "source": [
    "def set_materials(model_id, palette_name, opacity=1.0):\n",
    "    \n",
    "    simulation_data_casts=list()\n",
    "    opacities=list()\n",
    "    refraction_indices=list()\n",
    "    reflection_indices=list()\n",
    "    shading_modes=list()\n",
    "    diffuse_colors=list()\n",
    "    specular_colors=list()\n",
    "    specular_exponents=list()\n",
    "    material_ids=list()\n",
    "    glossinesses=list()\n",
    "    emissions=list()\n",
    "    clips=list()\n",
    "    user_parameters=list()\n",
    "    \n",
    "    import seaborn as sns\n",
    "    material_ids = ce.get_material_ids(model_id)['ids']\n",
    "    nb_materials = len(material_ids)\n",
    "    palette = sns.color_palette(palette_name, nb_materials)\n",
    "    \n",
    "    for i in range(nb_materials):\n",
    "        c=palette[i]\n",
    "        opacities.append(opacity)\n",
    "        refraction_indices.append(1.5)\n",
    "        reflection_indices.append(0.0)\n",
    "        specular_exponents.append(50)\n",
    "        glossinesses.append(1)\n",
    "        diffuse_colors.append([c[0],c[1],c[2]])\n",
    "        specular_colors.append([c[0],c[1],c[2]])\n",
    "        shading_modes.append(ce.SHADING_MODE_DIFFUSE)\n",
    "        simulation_data_casts.append(False)\n",
    "        emissions.append(0)\n",
    "        user_parameters.append(1)\n",
    "        clips.append(False)\n",
    "        \n",
    "    print(material_ids)\n",
    "\n",
    "    ce.set_materials(\n",
    "        model_ids=[model_id], material_ids=material_ids,\n",
    "        simulation_data_casts=simulation_data_casts,\n",
    "        opacities=opacities, reflection_indices=reflection_indices,\n",
    "        shading_modes=shading_modes, user_parameters=user_parameters,\n",
    "        diffuse_colors=diffuse_colors, specular_colors=specular_colors,\n",
    "        specular_exponents=specular_exponents, glossinesses=glossinesses,\n",
    "        emissions=emissions, refraction_indices=refraction_indices)"
   ]
  },
  {
   "cell_type": "code",
   "execution_count": null,
   "metadata": {},
   "outputs": [],
   "source": [
    "set_materials(model['id'], 'Set2', 0.5)"
   ]
  },
  {
   "cell_type": "code",
   "execution_count": null,
   "metadata": {},
   "outputs": [],
   "source": []
  },
  {
   "cell_type": "markdown",
   "metadata": {},
   "source": [
    "# Rat Atlas"
   ]
  },
  {
   "cell_type": "code",
   "execution_count": 35,
   "metadata": {
    "scrolled": false
   },
   "outputs": [],
   "source": [
    "import glob\n",
    "import os\n",
    "nrrd_folder = '/home/favreau/python/data/waxholm/brain_regions/brain_region/'\n",
    "mesh_files = glob.glob(nrrd_folder + '*.obj')\n",
    "for mesh_file in mesh_files:\n",
    "    region_id = int(os.path.basename(mesh_file).split('.')[0])\n",
    "    if region_id > 20 and region_id<1000 and region_id not in [58, 41]:\n",
    "        brayns.add_model(mesh_file)"
   ]
  },
  {
   "cell_type": "code",
   "execution_count": 59,
   "metadata": {},
   "outputs": [],
   "source": [
    "def set_model_color(model_id, color, opacity=1.0):\n",
    "    simulation_data_casts=list()\n",
    "    opacities=list()\n",
    "    refraction_indices=list()\n",
    "    reflection_indices=list()\n",
    "    shading_modes=list()\n",
    "    diffuse_colors=list()\n",
    "    specular_colors=list()\n",
    "    specular_exponents=list()\n",
    "    material_ids=list()\n",
    "    glossinesses=list()\n",
    "    emissions=list()\n",
    "    clips=list()\n",
    "    user_parameters=list()\n",
    "    \n",
    "    material_ids = ce.get_material_ids(model_id)['ids']\n",
    "    nb_materials = len(material_ids)\n",
    "    for i in range(nb_materials):\n",
    "        \n",
    "        if True: # noise\n",
    "            opacities.append(0.5)\n",
    "            refraction_indices.append(1.5)\n",
    "            specular_exponents.append(50)\n",
    "            glossinesses.append(0.5)\n",
    "            shading_modes.append(ce.SHADING_MODE_PERLIN)\n",
    "            user_parameters.append(0.001)\n",
    "        else:\n",
    "            opacities.append(0.75)\n",
    "            refraction_indices.append(1.0)\n",
    "            specular_exponents.append(5)\n",
    "            glossinesses.append(1.0)\n",
    "            shading_modes.append(ce.SHADING_MODE_ELECTRON)\n",
    "            user_parameters.append(1.0)\n",
    "\n",
    "        c=color\n",
    "        reflection_indices.append(0.0)\n",
    "        diffuse_colors.append([c[0],c[1],c[2]])\n",
    "        specular_colors.append([c[0],c[1],c[2]])\n",
    "        simulation_data_casts.append(False)\n",
    "        emissions.append(0)\n",
    "        clips.append(True)\n",
    "\n",
    "    ce.set_materials(\n",
    "        model_ids=[model_id], material_ids=material_ids,\n",
    "        simulation_data_casts=simulation_data_casts,\n",
    "        opacities=opacities, reflection_indices=reflection_indices,\n",
    "        shading_modes=shading_modes, user_parameters=user_parameters,\n",
    "        diffuse_colors=diffuse_colors, specular_colors=specular_colors,\n",
    "        specular_exponents=specular_exponents, glossinesses=glossinesses,\n",
    "        emissions=emissions, refraction_indices=refraction_indices)"
   ]
  },
  {
   "cell_type": "code",
   "execution_count": 61,
   "metadata": {},
   "outputs": [],
   "source": [
    "import seaborn as sns\n",
    "models = brayns.scene.models\n",
    "nb_models = len(models)\n",
    "palette = sns.color_palette('pink', nb_models)\n",
    "for i in range(nb_models):\n",
    "    model = models[i]\n",
    "    model_id = model['id']\n",
    "    ce.set_material_extra_attributes(model_id)\n",
    "    set_model_color(model_id, palette[i])"
   ]
  },
  {
   "cell_type": "code",
   "execution_count": null,
   "metadata": {},
   "outputs": [],
   "source": []
  }
 ],
 "metadata": {
  "kernelspec": {
   "display_name": "Python 3",
   "language": "python",
   "name": "python3"
  },
  "language_info": {
   "codemirror_mode": {
    "name": "ipython",
    "version": 3
   },
   "file_extension": ".py",
   "mimetype": "text/x-python",
   "name": "python",
   "nbconvert_exporter": "python",
   "pygments_lexer": "ipython3",
   "version": "3.8.10"
  }
 },
 "nbformat": 4,
 "nbformat_minor": 2
}
